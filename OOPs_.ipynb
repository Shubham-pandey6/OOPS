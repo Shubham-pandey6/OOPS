{
  "nbformat": 4,
  "nbformat_minor": 0,
  "metadata": {
    "colab": {
      "provenance": []
    },
    "kernelspec": {
      "name": "python3",
      "display_name": "Python 3"
    },
    "language_info": {
      "name": "python"
    }
  },
  "cells": [
    {
      "cell_type": "markdown",
      "source": [
        "1. What is Object-Oriented Programming (OOP)?\n",
        "\n",
        "Ans---\n",
        "OOP is a programming paradigm that organizes software design around objects—bundles of data (attributes) and behavior (methods). It focuses on encapsulation, abstraction, inheritance, and polymorphism to model real-world entities and promote code reuse, modularity, and maintainability."
      ],
      "metadata": {
        "id": "lAtY-IOyp337"
      }
    },
    {
      "cell_type": "markdown",
      "source": [
        "2. What is a class in OOP?\n",
        "\n",
        "ANS--\n",
        "A class is a blueprint for creating objects. It defines the attributes (variables) and methods (functions) common to all objects of that type.\n",
        "\n"
      ],
      "metadata": {
        "id": "0tZg8rOerCLD"
      }
    },
    {
      "cell_type": "code",
      "source": [
        "\n",
        "class Car:\n",
        "    def drive(self):\n",
        "        print(\"Car is driving\")\n"
      ],
      "metadata": {
        "id": "4QIAxp7jrSCm"
      },
      "execution_count": 2,
      "outputs": []
    },
    {
      "cell_type": "markdown",
      "source": [
        "3. What is an object in OOP?\n",
        "\n",
        "An object is an instance of a class. It represents a specific implementation of the class blueprint with actual values."
      ],
      "metadata": {
        "id": "6VZXkYX3rZFh"
      }
    },
    {
      "cell_type": "code",
      "source": [
        "class Car:\n",
        "    def drive(self):\n",
        "        print(\"Car is driving\")\n",
        "\n",
        "my_car = Car()  # my_car is an object of class Car"
      ],
      "metadata": {
        "id": "_Ntw2Y0ZnAo-"
      },
      "execution_count": 5,
      "outputs": []
    },
    {
      "cell_type": "markdown",
      "source": [
        "4. Difference between abstraction and encapsulation\n",
        "\n",
        "Abstraction: Hides complex realities and exposes only essentials. It lets you interact with an object through a simple interface.\n",
        "\n",
        "Encapsulation: Bundles data and methods that operate on that data within a class. It restricts direct access to internal details.\n",
        "\n",
        "5. What are dunder methods in Python?\n",
        "\n",
        "Dunder methods (double underscore methods) are special methods with names like __init__, __str__, and __add__. They allow customization of built-in behaviors (like object initialization, printing, operator overloading).\n",
        "\n",
        "6. Explain inheritance in OOP\n",
        "\n",
        "Inheritance lets a class (child/derived) acquire properties and behaviors of another class (parent/base), supporting code reuse and hierarchy."
      ],
      "metadata": {
        "id": "uRBBqfFzmU5J"
      }
    },
    {
      "cell_type": "code",
      "source": [
        "class Animal:\n",
        "    def speak(self):\n",
        "        print(\"Generic sound\")\n",
        "\n",
        "class Dog(Animal):\n",
        "    def speak(self):\n",
        "        print(\"Bark!\")\n"
      ],
      "metadata": {
        "id": "Q78rjDV8mldH"
      },
      "execution_count": 2,
      "outputs": []
    },
    {
      "cell_type": "markdown",
      "source": [
        "7. What is polymorphism in OOP?\n",
        "\n",
        "Polymorphism means \"many forms.\" It allows objects of different classes to be treated as instances of the same base class, usually via method overriding.\n",
        "\n",
        "8. How is encapsulation achieved in Python?\n",
        "\n",
        "By using private attributes (prefixing with _ or __), you restrict access from outside the class. Getters and setters manage access."
      ],
      "metadata": {
        "id": "MuPDE5-unGBv"
      }
    },
    {
      "cell_type": "code",
      "source": [
        "class BankAccount:\n",
        "    def __init__(self, balance):\n",
        "        self.__balance = balance  # private attribute\n"
      ],
      "metadata": {
        "id": "U5US4OXynLlu"
      },
      "execution_count": 6,
      "outputs": []
    },
    {
      "cell_type": "markdown",
      "source": [
        "9. What is a constructor in Python?\n",
        "\n",
        "A constructor is a method (__init__) called when an object is instantiated to initialize its attributes."
      ],
      "metadata": {
        "id": "29jqyUudnOPm"
      }
    },
    {
      "cell_type": "code",
      "source": [
        "class Car:\n",
        "    def __init__(self, brand):\n",
        "        self.brand = brand\n"
      ],
      "metadata": {
        "id": "KTjzr89hnR1-"
      },
      "execution_count": null,
      "outputs": []
    },
    {
      "cell_type": "markdown",
      "source": [
        "10. What are class and static methods in Python?\n",
        "\n",
        "Class method (@classmethod): Works with the class, has access to class variables, takes cls as its first parameter.\n",
        "\n",
        "Static method (@staticmethod): Does not have access to class or instance variables, behaves like a normal function inside a class.\n",
        "\n",
        "11. What is method overloading in Python?\n",
        "\n",
        "Python does not support traditional method overloading, but you can use default arguments or *args and **kwargs to mimic it.\n",
        "\n",
        "12. What is method overriding in OOP?\n",
        "\n",
        "When a child class provides its own implementation of a method already defined in its parent class.\n",
        "\n",
        "13. What is a property decorator in Python?\n",
        "\n",
        "@property turns a method into a read-only attribute, enabling getter/setter for controlled access to attributes."
      ],
      "metadata": {
        "id": "6Avc1PzSnbtH"
      }
    },
    {
      "cell_type": "code",
      "source": [
        "class Person:\n",
        "    @property\n",
        "    def age(self):\n",
        "        return self._age\n"
      ],
      "metadata": {
        "id": "2SYQ-oJ7ngf2"
      },
      "execution_count": 7,
      "outputs": []
    },
    {
      "cell_type": "markdown",
      "source": [
        "14. Why is polymorphism important in OOP?\n",
        "\n",
        "It enables flexible and interchangeable code by allowing different objects to be treated through a common interface (e.g., all shapes have an area() method).\n",
        "\n",
        "15. What is an abstract class in Python?\n",
        "\n",
        "A class with one or more abstract methods (declared but not implemented), used as a base for other classes. In Python, defined using the abc module.\n",
        "\n",
        "16. Advantages of OOP\n",
        "\n",
        "Modularity\n",
        "\n",
        "Code reuse\n",
        "\n",
        "Scalability\n",
        "\n",
        "Easier testing and maintenance\n",
        "\n",
        "Data hiding\n",
        "\n",
        "17. Difference between class variable and instance variable\n",
        "\n",
        "Class variable: Shared by all instances; defined in class scope.\n",
        "\n",
        "Instance variable: Unique to each object; defined with self.\n",
        "\n",
        "18. What is multiple inheritance in Python?\n",
        "\n",
        "A class can inherit from more than one base class."
      ],
      "metadata": {
        "id": "16UhmufpnnDH"
      }
    },
    {
      "cell_type": "code",
      "source": [
        "class X:\n",
        "    pass\n",
        "\n",
        "class Y:\n",
        "    pass\n",
        "\n",
        "class Z(X, Y):\n",
        "    pass\n"
      ],
      "metadata": {
        "id": "Uc5kP1J_n3BV"
      },
      "execution_count": 8,
      "outputs": []
    },
    {
      "cell_type": "markdown",
      "source": [
        "19. Purpose of __str__ and __repr__ methods in Python\n",
        "\n",
        "__str__: Provides a readable string representation for end-users (e.g., via print).\n",
        "\n",
        "__repr__: Provides a detailed, unambiguous representation for developers.\n",
        "\n",
        "20. Significance of super() in Python\n",
        "\n",
        "super() lets you call methods of a parent class, often used to extend or customize inherited methods.\n",
        "\n",
        "21. Significance of the __del__ method in Python\n",
        "\n",
        "__del__ is called when an object is about to be destroyed (garbage collected); can be used to clean up resources.\n",
        "\n",
        "22. Difference between @staticmethod and @classmethod in Python\n",
        "\n",
        "@staticmethod: No access to class or instance; behaves like a plain function.\n",
        "\n",
        "@classmethod: Receives class (cls) as the first parameter, can access/modify class state.\n",
        "\n",
        "23. How does polymorphism work in Python with inheritance?\n",
        "\n",
        "Through method overriding, a derived class can provide its own version of a method, enabling calls through base-class references to invoke the derived class’s method.\n",
        "\n",
        "24. What is method chaining in Python OOP?\n",
        "\n",
        "Returning self from methods allows you to call multiple methods in a single statement."
      ],
      "metadata": {
        "id": "e7iSzroIoAOJ"
      }
    },
    {
      "cell_type": "code",
      "source": [
        "class A:\n",
        "    def set_x(self, x):\n",
        "        self.x = x\n",
        "        return self\n",
        "\n",
        "    def set_y(self, y):\n",
        "        self.y = y\n",
        "        return self\n",
        "\n",
        "a = A().set_x(5).set_y(10)\n"
      ],
      "metadata": {
        "id": "e_CoYq_woJpe"
      },
      "execution_count": 9,
      "outputs": []
    },
    {
      "cell_type": "markdown",
      "source": [
        "25. Purpose of the __call__ method in Python\n",
        "\n",
        "Makes an instance callable like a function."
      ],
      "metadata": {
        "id": "XKv8QoHOoN6d"
      }
    },
    {
      "cell_type": "code",
      "source": [
        "class Example:\n",
        "    def __call__(self):\n",
        "        print(\"Object called like a function\")\n"
      ],
      "metadata": {
        "id": "YqChq6GLocfd"
      },
      "execution_count": 10,
      "outputs": []
    },
    {
      "cell_type": "markdown",
      "source": [
        "# Code Implementation Questions"
      ],
      "metadata": {
        "id": "5_mqT3EQrJ0i"
      }
    },
    {
      "cell_type": "code",
      "source": [
        "#1. Animal with speak() and Dog override\n",
        "\n",
        "class Animal:\n",
        "    def speak(self):\n",
        "        print(\"Generic animal sound\")\n",
        "\n",
        "class Dog(Animal):\n",
        "    def speak(self):\n",
        "        print(\"Bark!\")\n"
      ],
      "metadata": {
        "id": "oejbpFXgo8Lu"
      },
      "execution_count": 11,
      "outputs": []
    },
    {
      "cell_type": "code",
      "source": [
        "#2 Abstract Shape: Circle & Rectangle\n",
        "\n",
        "from abc import ABC, abstractmethod\n",
        "\n",
        "class Shape(ABC):\n",
        "    @abstractmethod\n",
        "    def area(self):\n",
        "        pass\n",
        "\n",
        "class Circle(Shape):\n",
        "    def __init__(self, radius):\n",
        "        self.radius = radius\n",
        "    def area(self):\n",
        "        return 3.14 * self.radius * self.radius\n",
        "\n",
        "class Rectangle(Shape):\n",
        "    def __init__(self, width, height):\n",
        "        self.width = width\n",
        "        self.height = height\n",
        "    def area(self):\n",
        "        return self.width * self.height"
      ],
      "metadata": {
        "id": "JInqHLb7pHEw"
      },
      "execution_count": 12,
      "outputs": []
    },
    {
      "cell_type": "code",
      "source": [
        "#3. Multilevel Inheritance: Vehicle → Car → ElectricCar\n",
        "\n",
        "class Vehicle:\n",
        "    def __init__(self, type):\n",
        "        self.type = type\n",
        "\n",
        "class Car(Vehicle):\n",
        "    pass\n",
        "\n",
        "class ElectricCar(Car):\n",
        "    def __init__(self, type, battery):\n",
        "        super().__init__(type)\n",
        "        self.battery = battery"
      ],
      "metadata": {
        "id": "6QP0B8bppWxn"
      },
      "execution_count": 13,
      "outputs": []
    },
    {
      "cell_type": "code",
      "source": [
        "#4. Polymorphism with Bird, Sparrow, Penguin\n",
        "\n",
        "class Bird:\n",
        "    def fly(self):\n",
        "        print(\"Some birds can fly.\")\n",
        "\n",
        "class Sparrow(Bird):\n",
        "    def fly(self):\n",
        "        print(\"Sparrow flies.\")\n",
        "\n",
        "class Penguin(Bird):\n",
        "    def fly(self):\n",
        "        print(\"Penguin can't fly.\")"
      ],
      "metadata": {
        "id": "HIjVinOJpb21"
      },
      "execution_count": 14,
      "outputs": []
    },
    {
      "cell_type": "code",
      "source": [
        "#5. Encapsulation: BankAccount\n",
        "\n",
        "class BankAccount:\n",
        "    def __init__(self, balance=0):\n",
        "        self.__balance = balance\n",
        "\n",
        "    def deposit(self, amount):\n",
        "        self.__balance += amount\n",
        "\n",
        "    def withdraw(self, amount):\n",
        "        if amount <= self.__balance:\n",
        "            self.__balance -= amount\n",
        "\n",
        "    def check_balance(self):\n",
        "        return self.__balance"
      ],
      "metadata": {
        "id": "Jam5Bk2opggf"
      },
      "execution_count": 15,
      "outputs": []
    },
    {
      "cell_type": "code",
      "source": [
        "#6. Runtime Polymorphism: Instrument, Guitar, Piano\n",
        "\n",
        "class Instrument:\n",
        "    def play(self):\n",
        "        print(\"Playing instrument\")\n",
        "\n",
        "class Guitar(Instrument):\n",
        "    def play(self):\n",
        "        print(\"Playing guitar\")\n",
        "\n",
        "class Piano(Instrument):\n",
        "    def play(self):\n",
        "        print(\"Playing piano\")"
      ],
      "metadata": {
        "id": "v5GRQGHupjKn"
      },
      "execution_count": 16,
      "outputs": []
    },
    {
      "cell_type": "code",
      "source": [
        "#7. MathOperations: class and static methods\n",
        "\n",
        "class MathOperations:\n",
        "    @classmethod\n",
        "    def add_numbers(cls, a, b):\n",
        "        return a + b\n",
        "\n",
        "    @staticmethod\n",
        "    def subtract_numbers(a, b):\n",
        "        return a - b"
      ],
      "metadata": {
        "id": "5OAvLpWwpprx"
      },
      "execution_count": 17,
      "outputs": []
    },
    {
      "cell_type": "code",
      "source": [
        "#8. Person with total count (class method)\n",
        "\n",
        "class Person:\n",
        "    count = 0\n",
        "\n",
        "    def __init__(self, name):\n",
        "        self.name = name\n",
        "        Person.count += 1\n",
        "\n",
        "    @classmethod\n",
        "    def total_persons(cls):\n",
        "        return cls.count"
      ],
      "metadata": {
        "id": "OfW6FWwJpwQw"
      },
      "execution_count": 18,
      "outputs": []
    },
    {
      "cell_type": "code",
      "source": [
        "#9. Fraction with __str__\n",
        "\n",
        "class Fraction:\n",
        "    def __init__(self, num, denom):\n",
        "        self.num = num\n",
        "        self.denom = denom\n",
        "\n",
        "    def __str__(self):\n",
        "        return f\"{self.num}/{self.denom}\""
      ],
      "metadata": {
        "id": "24Dtis15p1K1"
      },
      "execution_count": 19,
      "outputs": []
    },
    {
      "cell_type": "code",
      "source": [
        "#10. Operator Overloading: Vector\n",
        "\n",
        "class Vector:\n",
        "    def __init__(self, x, y):\n",
        "        self.x = x\n",
        "        self.y = y\n",
        "\n",
        "    def __add__(self, other):\n",
        "        return Vector(self.x + other.x, self.y + other.y)\n",
        "\n",
        "    def __str__(self):\n",
        "        return f\"Vector({self.x}, {self.y})\""
      ],
      "metadata": {
        "id": "dT9tOPVFp5iZ"
      },
      "execution_count": 20,
      "outputs": []
    },
    {
      "cell_type": "code",
      "source": [
        "#11. Person: greet()\n",
        "\n",
        "class Person:\n",
        "    def __init__(self, name, age):\n",
        "        self.name = name\n",
        "        self.age = age\n",
        "\n",
        "    def greet(self):\n",
        "        print(f\"Hello, my name is {self.name} and I am {self.age} years old.\")"
      ],
      "metadata": {
        "id": "hapu4eGSp8CQ"
      },
      "execution_count": 21,
      "outputs": []
    },
    {
      "cell_type": "code",
      "source": [
        "#12. Student: average_grade()\n",
        "\n",
        "class Student:\n",
        "    def __init__(self, name, grades):\n",
        "        self.name = name\n",
        "        self.grades = grades\n",
        "\n",
        "    def average_grade(self):\n",
        "        return sum(self.grades) / len(self.grades)"
      ],
      "metadata": {
        "id": "qFxEpzwJqB9e"
      },
      "execution_count": 23,
      "outputs": []
    },
    {
      "cell_type": "code",
      "source": [
        "#13. Rectangle: set_dimensions, area\n",
        "\n",
        "class Rectangle:\n",
        "    def set_dimensions(self, width, height):\n",
        "        self.width = width\n",
        "        self.height = height\n",
        "\n",
        "    def area(self):\n",
        "        return self.width * self.height"
      ],
      "metadata": {
        "id": "AXcCeAZeqMJw"
      },
      "execution_count": 24,
      "outputs": []
    },
    {
      "cell_type": "code",
      "source": [
        "#14. Employee and Manager: calculate_salary\n",
        "\n",
        "class Employee:\n",
        "    def calculate_salary(self, hours, rate):\n",
        "        return hours * rate\n",
        "\n",
        "class Manager(Employee):\n",
        "    def calculate_salary(self, hours, rate, bonus):\n",
        "        return (hours * rate) + bonus"
      ],
      "metadata": {
        "id": "HXnIWDUcqSfQ"
      },
      "execution_count": 25,
      "outputs": []
    },
    {
      "cell_type": "code",
      "source": [
        "#15. Product: total_price\n",
        "\n",
        "class Product:\n",
        "    def __init__(self, name, price, quantity):\n",
        "        self.name = name\n",
        "        self.price = price\n",
        "        self.quantity = quantity\n",
        "\n",
        "    def total_price(self):\n",
        "        return self.price * self.quantity"
      ],
      "metadata": {
        "id": "gYntjnQdqYGO"
      },
      "execution_count": 26,
      "outputs": []
    },
    {
      "cell_type": "code",
      "source": [
        "#16. Abstract Animal: Cow and Sheep\n",
        "\n",
        "from abc import ABC, abstractmethod\n",
        "\n",
        "class Animal(ABC):\n",
        "    @abstractmethod\n",
        "    def sound(self):\n",
        "        pass\n",
        "\n",
        "class Cow(Animal):\n",
        "    def sound(self):\n",
        "        print(\"Moo\")\n",
        "\n",
        "class Sheep(Animal):\n",
        "    def sound(self):\n",
        "        print(\"Baa\")"
      ],
      "metadata": {
        "id": "TQHjnCOiqaOR"
      },
      "execution_count": 27,
      "outputs": []
    },
    {
      "cell_type": "code",
      "source": [
        "#17. Book: get_book_info\n",
        "\n",
        "class Book:\n",
        "    def __init__(self, title, author, year_published):\n",
        "        self.title = title\n",
        "        self.author = author\n",
        "        self.year_published = year_published\n",
        "\n",
        "    def get_book_info(self):\n",
        "        return f\"{self.title}, by {self.author} ({self.year_published})\""
      ],
      "metadata": {
        "id": "reRohLTGqffh"
      },
      "execution_count": 28,
      "outputs": []
    },
    {
      "cell_type": "code",
      "source": [
        "#18. House and Mansion: inheritance\n",
        "\n",
        "class House:\n",
        "    def __init__(self, address, price):\n",
        "        self.address = address\n",
        "        self.price = price\n",
        "\n",
        "class Mansion(House):\n",
        "    def __init__(self, address, price, number_of_rooms):\n",
        "        super().__init__(address, price)\n",
        "        self.number_of_rooms = number_of_rooms"
      ],
      "metadata": {
        "id": "G-JM2K-XqkCE"
      },
      "execution_count": 29,
      "outputs": []
    }
  ]
}